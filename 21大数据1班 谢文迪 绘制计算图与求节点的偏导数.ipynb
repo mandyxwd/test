{
 "cells": [
  {
   "cell_type": "code",
   "execution_count": 4,
   "id": "7ede83f8",
   "metadata": {},
   "outputs": [
    {
     "name": "stdout",
     "output_type": "stream",
     "text": [
      "y_function的值为: 2.952571392059326\n",
      "x1的导数为: 1.2541648175101727e-05\n",
      "x2的导数为: 5.139020231581526e-06\n"
     ]
    }
   ],
   "source": [
    "import torch\n",
    "\n",
    "#自定义实现sigmoid函数\n",
    "def sigmoid(x):\n",
    "    return 1 / (1 + torch.exp(-x))\n",
    "\n",
    "def y_function(x1,x2):\n",
    "    term1 = sigmoid(3*sigmoid(x1*x2+1))\n",
    "    term2 = sigmoid(x1*x1+2*x2 + 1)\n",
    "    return term1+term2+1\n",
    "\n",
    "#定义自变至x1和x2\n",
    "x1 = torch.tensor(2.,requires_grad=True)\n",
    "x2 = torch.tensor(5.,requires_grad=True)\n",
    "#计算y_function在x1和x2处的值\n",
    "y=y_function(x1,x2)\n",
    "#计算y_function在x1和x2处的导数\n",
    "y.backward()\n",
    "#输出y_function在给定x1和x2处的值和导数\n",
    "print(\"y_function的值为:\",y.item())\n",
    "print(\"x1的导数为:\",x1.grad.item())\n",
    "print(\"x2的导数为:\",x2.grad.item())"
   ]
  },
  {
   "cell_type": "code",
   "execution_count": null,
   "id": "ac0296bb",
   "metadata": {},
   "outputs": [],
   "source": []
  },
  {
   "cell_type": "code",
   "execution_count": null,
   "id": "1624f12f",
   "metadata": {},
   "outputs": [],
   "source": []
  },
  {
   "cell_type": "code",
   "execution_count": null,
   "id": "30756bbc",
   "metadata": {},
   "outputs": [],
   "source": []
  },
  {
   "cell_type": "code",
   "execution_count": null,
   "id": "848f1e11",
   "metadata": {},
   "outputs": [],
   "source": []
  },
  {
   "cell_type": "code",
   "execution_count": null,
   "id": "dca91e07",
   "metadata": {},
   "outputs": [],
   "source": []
  },
  {
   "cell_type": "code",
   "execution_count": null,
   "id": "a80617c3",
   "metadata": {},
   "outputs": [],
   "source": []
  }
 ],
 "metadata": {
  "kernelspec": {
   "display_name": "Python 3",
   "language": "python",
   "name": "python3"
  },
  "language_info": {
   "codemirror_mode": {
    "name": "ipython",
    "version": 3
   },
   "file_extension": ".py",
   "mimetype": "text/x-python",
   "name": "python",
   "nbconvert_exporter": "python",
   "pygments_lexer": "ipython3",
   "version": "3.8.8"
  }
 },
 "nbformat": 4,
 "nbformat_minor": 5
}
